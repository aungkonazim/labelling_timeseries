{
 "cells": [
  {
   "cell_type": "code",
   "execution_count": 35,
   "metadata": {},
   "outputs": [
    {
     "name": "stdout",
     "output_type": "stream",
     "text": [
      "814\n"
     ]
    }
   ],
   "source": [
    "import pickle\n",
    "import numpy as np\n",
    "window_col_bad = pickle.load(open('./data_saved/window_col_bad.p','rb'))\n",
    "window_col_good = pickle.load(open('./data_saved/window_col_good.p','rb'))\n",
    "print(len(window_col_bad)+len(window_col_good))\n",
    "window_col = window_col_good + window_col_bad\n",
    "labels = np.array([0]*len(window_col_good) + [1]*len(window_col_bad))"
   ]
  },
  {
   "cell_type": "code",
   "execution_count": null,
   "metadata": {},
   "outputs": [],
   "source": []
  },
  {
   "cell_type": "code",
   "execution_count": 57,
   "metadata": {
    "scrolled": true
   },
   "outputs": [],
   "source": [
    "import numpy as np\n",
    "from scipy import signal\n",
    "from scipy.stats import skew,kurtosis\n",
    "import matplotlib.pyplot as plt\n",
    "%matplotlib inline\n",
    "from sklearn.preprocessing import RobustScaler\n",
    "def get_metric(x):\n",
    "    x = RobustScaler().fit_transform(np.array(x).reshape(-1,1))[:,0]\n",
    "    f,pxx = signal.welch(x,fs=25,nperseg=len(x)//2)\n",
    "    pxx = np.abs(pxx)\n",
    "    pxx = pxx/max(pxx)\n",
    "    relative_power =  np.trapz(pxx[np.where((f>.8)&(f<2.5))[0]])/np.trapz(pxx[np.where(f>=0)[0]])\n",
    "    relative_peak_power = np.std(pxx[np.where((f>.8)&(f<2.5))[0]])/np.max(pxx[np.where((f>.8)&(f<2.5))[0]])\n",
    "    relative_peak_power = relative_peak_power/(relative_peak_power+np.std(pxx)/np.max(pxx))\n",
    "    peaks_loc1,u = signal.find_peaks(pxx,height=.01)\n",
    "    a = 0\n",
    "    b = 0\n",
    "    for p in peaks_loc1:\n",
    "        if f[p]>0:\n",
    "            if .8<f[p]<2.5:\n",
    "                a+=pxx[p]\n",
    "            b+=pxx[p]\n",
    "    if len(peaks_loc1)==0 or a==0:\n",
    "        relative_peak_power = 0\n",
    "    else:\n",
    "        relative_peak_power = a/b\n",
    "    sk,kr = skew(x),kurtosis(x)\n",
    "    return [sk,kr,relative_power,relative_peak_power]\n",
    "feature = np.zeros((0,6))\n",
    "for i,a in enumerate(window_col):\n",
    "    if a.shape[0]<50:\n",
    "        continue\n",
    "    if 1<(a[-1,0]-a[0,0])/1000<10:\n",
    "        tmp = get_metric(a[:,4])\n",
    "        if labels[i]==1:\n",
    "            if tmp[-1]!=0:\n",
    "                continue\n",
    "        duration = (a[-1,0]-a[0,0])/1000\n",
    "        tmp = tmp + [duration,labels[i]]\n",
    "        feature = np.concatenate((feature,np.array(tmp).reshape(-1,6)))"
   ]
  },
  {
   "cell_type": "code",
   "execution_count": 60,
   "metadata": {},
   "outputs": [
    {
     "data": {
      "image/png": "[encoded data removed]",
      "text/plain": [
       "<Figure size 432x288 with 1 Axes>"
      ]
     },
     "metadata": {
      "needs_background": "light"
     },
     "output_type": "display_data"
    }
   ],
   "source": [
    "%matplotlib inline\n",
    "# plt.scatter(feature[:,3],[1]*feature.shape[0],c=feature[:,-1])\n",
    "# plt.boxplot([feature[feature[:,-1]==0,2],feature[feature[:,-1]==1,2],\n",
    "#              feature[feature[:,-1]==0,3],feature[feature[:,-1]==1,3]],showfliers=False)\n",
    "# # plt.colorbar()\n",
    "# plt.show()"
   ]
  },
  {
   "cell_type": "code",
   "execution_count": 83,
   "metadata": {},
   "outputs": [
    {
     "data": {
      "image/png": "[encoded data removed]",
      "text/plain": [
       "<Figure size 720x504 with 3 Axes>"
      ]
     },
     "metadata": {
      "needs_background": "light"
     },
     "output_type": "display_data"
    }
   ],
   "source": [
    "titles = ['Skewness','Kurtosis','Relative Power']\n",
    "cl = ['c','y','b']\n",
    "import seaborn as sns\n",
    "fig,ax = plt.subplots(figsize=(10,7),nrows=1, ncols=3,sharex=False)\n",
    "for i in range(0,3,1):\n",
    "    sns.boxplot(y=feature[:,i],\n",
    "                x=feature[:,-1], ax=ax[i],color=cl[i],showfliers=False)\n",
    "    plt.setp(ax[i],xticks=[0,1],\n",
    "         xticklabels=['Clean','Irrecoverable'],title=titles[i])\n",
    "plt.savefig('./data_saved/signal_quality_distribution.pdf',dps=1000)\n",
    "plt.show()"
   ]
  },
  {
   "cell_type": "code",
   "execution_count": null,
   "metadata": {},
   "outputs": [],
   "source": []
  },
  {
   "cell_type": "code",
   "execution_count": null,
   "metadata": {},
   "outputs": [],
   "source": [
    "import scipy\n",
    "scipy.stats.mode(duration_col1)"
   ]
  },
  {
   "cell_type": "code",
   "execution_count": null,
   "metadata": {},
   "outputs": [],
   "source": [
    "%matplotlib inline\n",
    "plt.figure(figsize=(10,4))\n",
    "sns.scatterplot(x=duration_col1, y=std_col1)\n",
    "# sns.jointplot(x=duration_col1, y=std_col1,kind='reg')\n",
    "\n",
    "plt.xlim([0,30])\n",
    "# plt.colorbar()\n",
    "plt.savefig('./data_saved/relative_peak_power_dist24.png',dps=10000)\n",
    "plt.show()"
   ]
  },
  {
   "cell_type": "code",
   "execution_count": null,
   "metadata": {},
   "outputs": [],
   "source": []
  }
 ],
 "metadata": {
  "kernelspec": {
   "display_name": "Python 3",
   "language": "python",
   "name": "python3"
  },
  "language_info": {
   "codemirror_mode": {
    "name": "ipython",
    "version": 3
   },
   "file_extension": ".py",
   "mimetype": "text/x-python",
   "name": "python",
   "nbconvert_exporter": "python",
   "pygments_lexer": "ipython3",
   "version": "3.6.8"
  }
 },
 "nbformat": 4,
 "nbformat_minor": 2
}
