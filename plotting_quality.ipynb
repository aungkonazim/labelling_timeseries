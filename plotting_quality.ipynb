{
 "cells": [
  {
   "cell_type": "code",
   "execution_count": 3,
   "metadata": {},
   "outputs": [
    {
     "name": "stdout",
     "output_type": "stream",
     "text": [
      "4085 1730 2622\n"
     ]
    }
   ],
   "source": [
    "import pickle\n",
    "window_col_good = pickle.load(open('./data_saved/acceptable_windows.p','rb'))\n",
    "window_col_bad = pickle.load(open('./data_saved/unacceptable_windows.p','rb'))\n",
    "window_col_irr = pickle.load(open('./data_saved/irrecoverable_windows.p','rb'))\n",
    "good,bad = window_col_good , window_col_irr+window_col_bad\n",
    "print(len(good),len(window_col_bad),len(window_col_irr))"
   ]
  },
  {
   "cell_type": "code",
   "execution_count": null,
   "metadata": {},
   "outputs": [],
   "source": [
    "from scipy.stats import skew,kurtosis\n",
    "import numpy as np\n",
    "from scipy import signal\n",
    "from scipy.stats import iqr\n",
    "def get_metric(x):\n",
    "    f,pxx = signal.welch(x,fs=25,nperseg=len(x),nfft=10000)\n",
    "    pxx = np.abs(pxx)\n",
    "    pxx = pxx/max(pxx)\n",
    "    peaks_loc1,_ = signal.find_peaks(pxx[np.where((f>.8)&(f<2.5))[0]],height=.1)\n",
    "    if len(peaks_loc1)==0:\n",
    "        return [skew(x),kurtosis(x),np.trapz(pxx[np.where((f>.8)&(f<2.5))[0]])/np.trapz(pxx),-1]\n",
    "    else:\n",
    "        return [skew(x),kurtosis(x),np.trapz(pxx[np.where((f>.8)&(f<2.5))[0]])/np.trapz(pxx),10]\n",
    "feature = np.zeros((0,4))\n",
    "std_col = []\n",
    "mean_col = []\n",
    "for i,a in enumerate(window_col):\n",
    "    a[:,5:8] = a[:,5:8]*2/16384 \n",
    "    if label_col[i]==1:\n",
    "        tmp = get_metric(a[:,4])\n",
    "        tmp = np.array(tmp[:3]+[1]).reshape(-1,4)\n",
    "        feature = np.concatenate((feature,tmp))\n",
    "        std_col.append(np.sqrt(np.sum(np.power(np.std(a[:,5:8],axis=0),2))))\n",
    "        mean_col.append(np.sqrt(np.sum(np.power(np.mean(a[:,5:8],axis=0),2))))\n",
    "    elif label_col[i]==-1:\n",
    "        tmp = get_metric(a[:,4])\n",
    "        tmp = np.array(tmp[:3]+[-1]).reshape(-1,4)\n",
    "        feature = np.concatenate((feature,tmp))\n",
    "        std_col.append(np.sqrt(np.sum(np.power(np.std(a[:,5:8],axis=0),2))))\n",
    "        mean_col.append(np.sqrt(np.sum(np.power(np.mean(a[:,5:8],axis=0),2))))\n",
    "for i,a in enumerate(window_col):\n",
    "    if label_col[i]==0:\n",
    "        tmp = get_metric(a[:,4])\n",
    "        if tmp[-1]==-1:\n",
    "            tmp = np.array(tmp[:3]+[0]).reshape(-1,4)\n",
    "            feature = np.concatenate((feature,tmp))\n",
    "            std_col.append(np.sqrt(np.sum(np.power(np.std(a[:,5:8],axis=0),2))))\n",
    "            mean_col.append(np.sqrt(np.sum(np.power(np.mean(a[:,5:8],axis=0),2))))\n",
    "    \n",
    "    \n",
    "print(len(feature[feature[:,-1]==1]),len(feature[feature[:,-1]==-1]),len(feature[feature[:,-1]==0]))"
   ]
  },
  {
   "cell_type": "code",
   "execution_count": 2,
   "metadata": {},
   "outputs": [
    {
     "name": "stdout",
     "output_type": "stream",
     "text": [
      "(8437, 4)\n"
     ]
    }
   ],
   "source": [
    "from scipy.stats import skew,kurtosis\n",
    "import numpy as np\n",
    "from scipy import signal\n",
    "from scipy.stats import iqr\n",
    "def get_metric(x):\n",
    "    f,pxx = signal.welch(x,fs=25,nperseg=len(x),nfft=10000)\n",
    "    pxx = np.abs(pxx)\n",
    "    pxx = pxx/max(pxx)\n",
    "    peaks_loc1,_ = signal.find_peaks(pxx[np.where((f>.8)&(f<2.5))[0]],height=.1)\n",
    "    return [skew(x),kurtosis(x),np.trapz(pxx[np.where((f>.8)&(f<2.5))[0]])/np.trapz(pxx),10]\n",
    "feature = np.zeros((0,4))\n",
    "for i,a in enumerate(good):\n",
    "    tmp = get_metric(a[:,1])\n",
    "    tmp = np.array(tmp[:3]+[1]).reshape(-1,4)\n",
    "    feature = np.concatenate((feature,tmp))\n",
    "for i,a in enumerate(bad):\n",
    "    tmp = get_metric(a[:,1])\n",
    "    tmp = np.array(tmp[:3]+[-1]).reshape(-1,4)\n",
    "    feature = np.concatenate((feature,tmp))\n",
    "print(feature.shape)"
   ]
  },
  {
   "cell_type": "code",
   "execution_count": 42,
   "metadata": {},
   "outputs": [
    {
     "data": {
      "image/png": "[encoded data removed]",
      "text/plain": [
       "<Figure size 720x576 with 3 Axes>"
      ]
     },
     "metadata": {
      "needs_background": "light"
     },
     "output_type": "display_data"
    }
   ],
   "source": [
    "titles = ['Skewness','kurtosis','Relative Power']\n",
    "cl = ['c','y','r']\n",
    "import matplotlib.pyplot as plt\n",
    "import seaborn as sns\n",
    "fig,ax = plt.subplots(figsize=(10,8),nrows=1, ncols=3,sharex=False)\n",
    "# ff= [mean_col,std_col]\n",
    "for i in range(0,3,1):\n",
    "    sns.boxplot(y=feature[:,i],\n",
    "                x=feature[:,-1], ax=ax[i],color=cl[i],showfliers=False)\n",
    "#     plt.xticks(rotation='vertical')\n",
    "\n",
    "    plt.setp(ax[i],xticks=[0,1],\n",
    "         xticklabels=['UnAcceptable','Acceptable'],title=titles[i])\n",
    "    ax[i].tick_params(axis='x', which='minor', labelsize='small', labelcolor='m', rotation=90)\n",
    "# plt.xticks(rotation='vertical')\n",
    "plt.savefig('./data_saved/inertial_distribution_only_unacceptable_acceptable.pdf',dps=1000)\n",
    "plt.show()"
   ]
  },
  {
   "cell_type": "code",
   "execution_count": null,
   "metadata": {
    "scrolled": false
   },
   "outputs": [],
   "source": [
    "titles = ['Skewness','kurtosis','Relative Power']\n",
    "cl = ['c','y','b']\n",
    "import seaborn as sns\n",
    "fig,ax = plt.subplots(figsize=(7,4),nrows=1, ncols=3,sharex=False)\n",
    "ff= [mean_col,std_col]\n",
    "for i in range(0,3,1):\n",
    "    sns.boxplot(y=feature[:,i],\n",
    "                x=feature[:,-1], ax=ax[i],color=cl[i],showfliers=False)\n",
    "#     plt.xticks(rotation='vertical')\n",
    "\n",
    "    plt.setp(ax[i],xticks=[0,1,2],\n",
    "         xticklabels=['UnAccep','Irrecover.','Acceptable'],title=titles[i])\n",
    "#     ax[i].tick_params(axis='x', which='minor', labelsize='small', labelcolor='m', rotation=180)\n",
    "# plt.xticks(rotation='vertical')\n",
    "plt.savefig('./data_saved/inertial_distribution.pdf',dps=1000)\n",
    "plt.show()"
   ]
  },
  {
   "cell_type": "code",
   "execution_count": null,
   "metadata": {},
   "outputs": [],
   "source": [
    "import pandas as pd\n",
    "df = pd.DataFrame(data=feature,    # values\n",
    "              index=range(feature.shape[0]),    # 1st column as index\n",
    "              columns=['Skewness','Kurtosis','Relative Power','Label'])\n",
    "df['Label'][df['Label']==1] = 'Acceptable'\n",
    "df['Label'][df['Label']==0] = 'Irrecoverable'\n",
    "df['Label'][df['Label']==-1] = 'Unacceptable'\n"
   ]
  },
  {
   "cell_type": "code",
   "execution_count": null,
   "metadata": {},
   "outputs": [],
   "source": [
    "%matplotlib notebook\n",
    "import matplotlib.pyplot as plt\n",
    "import seaborn as sns\n",
    "# fig,ax = plt.subplots()\n",
    "sns.pairplot(df, hue=\"Label\")\n",
    "# plt.savefig('./data_saved/pairplot_good_unacceptable_irrecoverable_data.png',dps=1000)\n",
    "plt.show()"
   ]
  },
  {
   "cell_type": "code",
   "execution_count": null,
   "metadata": {},
   "outputs": [],
   "source": [
    "np.unique(feature[:,-1])"
   ]
  },
  {
   "cell_type": "code",
   "execution_count": 6,
   "metadata": {},
   "outputs": [
    {
     "name": "stdout",
     "output_type": "stream",
     "text": [
      "[-1.  1.]\n",
      "(5568, 3) (5568,) (2869, 3) (2869,)\n",
      "[[2800   72]\n",
      " [ 165 2531]] 0.9552745801094547 0.9723396081444488 0.9387982195845698\n",
      "[[1145  335]\n",
      " [  76 1313]] 0.86466908133026 0.7967233009708737 0.9452843772498201\n"
     ]
    }
   ],
   "source": [
    "from sklearn.linear_model import LogisticRegression,LogisticRegressionCV\n",
    "from sklearn.svm import SVC\n",
    "from sklearn.model_selection import cross_val_predict\n",
    "from sklearn.metrics import confusion_matrix,f1_score,precision_score,recall_score\n",
    "index_good = np.where(feature[:,-1]==1)[0]\n",
    "# index_bad = np.where(feature[:,-1]==0)[0]\n",
    "index_irr = np.where(feature[:,-1]==-1)[0]\n",
    "index_bad = []\n",
    "X_train ,y_train = np.concatenate([feature[index_irr[:int(.66*len(index_irr))],:3],\n",
    "                                   feature[index_good[:int(.66*len(index_good))],:3]]),\\\n",
    "                   np.concatenate([feature[index_irr[:int(.66*len(index_irr))],-1],\n",
    "                                   feature[index_good[:int(.66*len(index_good))],-1]])\n",
    "X_test ,y_test = np.concatenate([feature[index_irr[int(.66*len(index_irr)):],:3],\n",
    "                                 feature[index_bad,:3],\n",
    "                                   feature[index_good[int(.66*len(index_good)):],:3]]),\\\n",
    "                   np.concatenate([feature[index_irr[int(.66*len(index_irr)):],-1],\n",
    "                                   feature[index_bad,-1],\n",
    "                                   feature[index_good[int(.66*len(index_good)):],-1]])\n",
    "print(np.unique(y_test))\n",
    "print(X_train.shape,y_train.shape,X_test.shape,y_test.shape)\n",
    "from sklearn.model_selection import StratifiedKFold\n",
    "skf = StratifiedKFold(n_splits=10)\n",
    "clf = LogisticRegressionCV(penalty='l2',solver='lbfgs',Cs=np.logspace(-3,30,100),scoring='recall',cv=skf.get_n_splits(X_train, y_train))\n",
    "# # # # clf = SVC()\n",
    "# predict = cross_val_predict(clf,X_train,y_train,cv=10)\n",
    "clf.fit(X_train,y_train)\n",
    "predict = clf.predict(X_train)\n",
    "y_pred = clf.predict(X_test)\n",
    "# print(np.unique(y_pred))\n",
    "# # # print(np.mean(score)*100)\n",
    "# # # print(np.std(score)*100)\n",
    "print(confusion_matrix(y_train,predict),\n",
    "      f1_score(y_train,predict),\n",
    "      precision_score(y_train,predict),\n",
    "      recall_score(y_train,predict))\n",
    "print(confusion_matrix(y_test,y_pred),\n",
    "      f1_score(y_test,y_pred),\n",
    "      precision_score(y_test,y_pred),\n",
    "      recall_score(y_test,y_pred))\n",
    "# # print(np.unique(y_pred),np.unique(y_test))\n",
    "# print(confusion_matrix(y_test,y_pred))\n",
    "# y_test1 = y_test\n",
    "# y_test1[y_test1==0] = y_test1[y_test1==0]-1\n",
    "# print(confusion_matrix(y_test1,y_pred))\n",
    "# print(f1_score(y_test1,y_pred),\n",
    "#       precision_score(y_test1,y_pred),\n",
    "#       recall_score(y_test1,y_pred))\n",
    "\n",
    "pickle.dump(clf,open('./data_saved/quality_classifier.p','wb'))"
   ]
  },
  {
   "cell_type": "code",
   "execution_count": null,
   "metadata": {},
   "outputs": [],
   "source": [
    "import pandas as pd\n",
    "df = pd.DataFrame(data=np.concatenate([np.array(mean_col).reshape(-1,1),np.array(std_col).reshape(-1,1),\n",
    "                                       feature[:,-1].reshape(-1,1)],axis=1),    # values\n",
    "              index=range(feature.shape[0]),    # 1st column as index\n",
    "              columns=['Magnitude Mean','Magnitude Standard Deviation','Label'])\n",
    "df['Label'][df['Label']==1] = 'Acceptable'\n",
    "df['Label'][df['Label']==-1] = 'Irrecoverable'\n"
   ]
  },
  {
   "cell_type": "code",
   "execution_count": null,
   "metadata": {},
   "outputs": [],
   "source": [
    "df"
   ]
  },
  {
   "cell_type": "code",
   "execution_count": null,
   "metadata": {},
   "outputs": [],
   "source": [
    "%matplotlib inline\n",
    "sns.boxplot(x='Label',y=['Magnitude Mean','Magnitude Mean'],data=df)\n",
    "plt.show()"
   ]
  },
  {
   "cell_type": "code",
   "execution_count": null,
   "metadata": {},
   "outputs": [],
   "source": [
    "from scipy.stats import kstest\n",
    "kstest(mean_col,std_col)"
   ]
  },
  {
   "cell_type": "code",
   "execution_count": null,
   "metadata": {},
   "outputs": [],
   "source": [
    "import matplotlib.pyplot as plt\n",
    "%matplotlib inline\n",
    "import os\n",
    "import seaborn as sns\n",
    "for i,a in enumerate(window_col_good):\n",
    "    if not os.path.isdir('./images_saved/acceptable'):\n",
    "        os.makedirs('./images_saved/acceptable')\n",
    "    plt.figure()\n",
    "    plt.plot((a[:,0]-a[0,0])/1000,a[:,1])\n",
    "    plt.savefig('./images_saved/acceptable'+'/'+str(i)+'.pdf',dps=1000)\n",
    "    plt.close('all')\n",
    "for i,a in enumerate(window_col_bad):\n",
    "    if not os.path.isdir('./images_saved/unacceptable'):\n",
    "        os.makedirs('./images_saved/unacceptable')\n",
    "    plt.figure()\n",
    "    plt.plot((a[:,0]-a[0,0])/1000,a[:,1])\n",
    "    plt.savefig('./images_saved/unacceptable'+'/'+str(i)+'.pdf',dps=1000)\n",
    "    plt.close('all')\n",
    "#     plt.show()"
   ]
  },
  {
   "cell_type": "code",
   "execution_count": null,
   "metadata": {},
   "outputs": [],
   "source": []
  }
 ],
 "metadata": {
  "kernelspec": {
   "display_name": "Python 3",
   "language": "python",
   "name": "python3"
  },
  "language_info": {
   "codemirror_mode": {
    "name": "ipython",
    "version": 3
   },
   "file_extension": ".py",
   "mimetype": "text/x-python",
   "name": "python",
   "nbconvert_exporter": "python",
   "pygments_lexer": "ipython3",
   "version": "3.7.3"
  }
 },
 "nbformat": 4,
 "nbformat_minor": 2
}
